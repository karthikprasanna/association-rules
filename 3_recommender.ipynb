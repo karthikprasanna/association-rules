{
 "cells": [
  {
   "cell_type": "code",
   "execution_count": 1,
   "metadata": {},
   "outputs": [],
   "source": [
    "import pandas as pd\n",
    "\n",
    "# Load the ratings dataset\n",
    "ratings_df = pd.read_csv('ml-latest-small/ratings.csv')\n",
    "\n",
    "# Filter ratings above 2\n",
    "filtered_ratings_df = ratings_df[ratings_df['rating'] > 2]\n",
    "\n",
    "# Group by 'userId' and count the number of movies rated by each user\n",
    "user_movie_counts = filtered_ratings_df.groupby('userId')['movieId'].count().reset_index()\n",
    "user_movie_counts.columns = ['userId', 'num_movies_rated']\n",
    "\n",
    "# Filter users who have rated more than 10 movies\n",
    "active_users = user_movie_counts[user_movie_counts['num_movies_rated'] > 10]\n",
    "\n",
    "# Filter the transactional data based on active users\n",
    "transactional_data = filtered_ratings_df[filtered_ratings_df['userId'].isin(active_users['userId'])]\n",
    "\n",
    "# Group by 'userId' and aggregate movies\n",
    "transactional_data = transactional_data.groupby('userId')['movieId'].apply(list).reset_index()\n",
    "transactional_data.columns = ['userId', 'movies_rated_above_2']"
   ]
  },
  {
   "cell_type": "code",
   "execution_count": 2,
   "metadata": {},
   "outputs": [],
   "source": [
    "from sklearn.model_selection import train_test_split\n",
    "import pandas as pd\n",
    "\n",
    "# Split data into training and test sets\n",
    "train_data = []\n",
    "test_data = []\n",
    "\n",
    "for _, row in transactional_data.iterrows():\n",
    "    user_id = row['userId']\n",
    "    movies_rated_above_2 = row['movies_rated_above_2']\n",
    "    \n",
    "    train_movies, test_movies = train_test_split(movies_rated_above_2, test_size=0.2, random_state=42)\n",
    "    \n",
    "    train_data.append({'userId': user_id, 'movies_rated_above_2': train_movies})\n",
    "    test_data.append({'userId': user_id, 'test_movies': test_movies})\n",
    "\n",
    "# Create DataFrames for training and test data after the loop\n",
    "train_df = pd.DataFrame(train_data)\n",
    "test_df = pd.DataFrame(test_data)"
   ]
  },
  {
   "cell_type": "code",
   "execution_count": 3,
   "metadata": {},
   "outputs": [],
   "source": [
    "minsup = 9"
   ]
  },
  {
   "cell_type": "code",
   "execution_count": 4,
   "metadata": {},
   "outputs": [],
   "source": [
    "# Create an empty dictionary to store movie support\n",
    "movie_support = {}\n",
    "\n",
    "# Iterate through each user's movies in the training set\n",
    "for _, row in train_df.iterrows():\n",
    "    train_movies = row['movies_rated_above_2']\n",
    "    \n",
    "    # Count the occurrences of each movie and update support\n",
    "    for movie in train_movies:\n",
    "        if movie in movie_support:\n",
    "            movie_support[movie] += 1\n",
    "        else:\n",
    "            movie_support[movie] = 1\n",
    "\n",
    "# Convert the movie support dictionary to a DataFrame\n",
    "support_df = pd.DataFrame(list(movie_support.items()), columns=['movieId', 'support'])\n",
    "\n",
    "# Sort the DataFrame by support in descending order\n",
    "support_df = support_df.sort_values(by='support', ascending=False)"
   ]
  },
  {
   "cell_type": "code",
   "execution_count": 5,
   "metadata": {},
   "outputs": [],
   "source": [
    "# Filter the DataFrame to keep only movies with support >= minsup\n",
    "trimmed_support_df = support_df[support_df['support'] >= minsup]"
   ]
  },
  {
   "cell_type": "code",
   "execution_count": 6,
   "metadata": {},
   "outputs": [],
   "source": [
    "\n",
    "# Filter movies in train_df based on minsup\n",
    "train_df['movies_rated_above_2'] = train_df['movies_rated_above_2'].apply(\n",
    "    lambda movies: [movie for movie in movies if movie in trimmed_support_df['movieId'].values]\n",
    ")\n",
    "\n",
    "# Function to get the support count of a movie\n",
    "def get_support_count(movie):\n",
    "    return trimmed_support_df[trimmed_support_df['movieId'] == movie]['support'].values[0]\n",
    "\n",
    "# Sort movies by support count in descending order\n",
    "train_df['movies_rated_above_2'] = train_df['movies_rated_above_2'].apply(\n",
    "    lambda movies: sorted(movies, key=get_support_count, reverse=True)\n",
    ")\n"
   ]
  },
  {
   "cell_type": "code",
   "execution_count": 7,
   "metadata": {},
   "outputs": [],
   "source": [
    "# Define a function to get the support count of a movie from the trimmed_support_df\n",
    "def get_support(movie_id):\n",
    "    support_row = trimmed_support_df[trimmed_support_df['movieId'] == movie_id]\n",
    "    if not support_row.empty:\n",
    "        return support_row['support'].values[0]\n",
    "    else:\n",
    "        return 0  # Default support count for movies not found in trimmed_support_df\n",
    "\n",
    "# Sort the movies_rated_above_2 column in train_df based on trimmed_support count\n",
    "train_df['movies_rated_above_2'] = train_df['movies_rated_above_2'].apply(\n",
    "    lambda movies: sorted(movies, key=get_support, reverse=True)\n",
    ")"
   ]
  },
  {
   "cell_type": "markdown",
   "metadata": {},
   "source": [
    "# Trie Data Structure Documentation\n",
    "\n",
    "The code below implements a Trie data structure. A Trie, also known as a Prefix Tree, is a tree-like data structure used to efficiently store and retrieve a dynamic set of strings. Each node in the Trie represents a character, and the path from the root to a particular node forms a string.\n",
    "\n",
    "## `TrieNode` Class\n",
    "\n",
    "### Constructor `__init__(self)`\n",
    "\n",
    "- Initializes a `TrieNode` object.\n",
    "- Attributes:\n",
    "  - `char`: The character associated with the node. Default value is -1.\n",
    "  - `count`: The count of words that pass through this node. Default value is 0.\n",
    "  - `children`: A list of child nodes, each representing a character. Initially empty.\n"
   ]
  },
  {
   "cell_type": "code",
   "execution_count": 8,
   "metadata": {},
   "outputs": [],
   "source": [
    "class TrieNode:\n",
    "    def __init__(self):\n",
    "        self.char = -1\n",
    "        self.count = 0\n",
    "        self.children = []\n",
    "\n",
    "root = TrieNode()"
   ]
  },
  {
   "cell_type": "markdown",
   "metadata": {},
   "source": [
    "## `root` Variable\n",
    "\n",
    "- Initializes the root of the Trie as an instance of the `TrieNode` class. This root serves as the starting point for inserting and searching words in the Trie.\n",
    "\n",
    "## `insert(word)` Function\n",
    "\n",
    "### Parameters:\n",
    "- `word` (str): The word to be inserted into the Trie.\n",
    "\n",
    "### Operation:\n",
    "- Inserts a word into the Trie by iterating through each character in the word and creating the necessary nodes as needed.\n",
    "- If a character already exists as a child of the current node, it increments the count for that character's node.\n",
    "- If a character does not exist as a child of the current node, it creates a new node and appends it to the list of children, updating the count.\n",
    "- The `root` variable always remains the starting point for each insertion.\n"
   ]
  },
  {
   "cell_type": "code",
   "execution_count": 9,
   "metadata": {},
   "outputs": [],
   "source": [
    "def insert(word):\n",
    "    node = root\n",
    "    for char in word:\n",
    "        found = False\n",
    "        for child in node.children:\n",
    "            if child.char == char:\n",
    "                node = child\n",
    "                node.count += 1\n",
    "                found = True\n",
    "                break\n",
    "\n",
    "        if not found:\n",
    "            new_node = TrieNode()\n",
    "            new_node.char = char\n",
    "            new_node.count = 1\n",
    "            node.children.append(new_node)\n",
    "            node = new_node"
   ]
  },
  {
   "cell_type": "code",
   "execution_count": 10,
   "metadata": {},
   "outputs": [],
   "source": [
    "for _, row in train_df.iterrows():\n",
    "    transaction = row['movies_rated_above_2']\n",
    "    insert(transaction)"
   ]
  },
  {
   "cell_type": "markdown",
   "metadata": {},
   "source": [
    "# DFS Function for Trie Pattern Matching Documentation\n",
    "\n",
    "The code below defines a Depth-First Search (DFS) function used for pattern matching in a Trie data structure. This function traverses the Trie and generates conditional pattern bases for a specific item.\n",
    "\n",
    "## Function: `dfs(node, pattern, item, patBase)`\n",
    "\n",
    "### Parameters:\n",
    "- `node` (TrieNode): The current node being explored in the Trie.\n",
    "- `pattern` (list): A list of characters representing the current pattern being constructed.\n",
    "- `item` (int): The item (character) for which conditional pattern bases are generated.\n",
    "- `patBase` (dict): A dictionary that stores the conditional pattern bases.\n",
    "\n",
    "### Operation:\n",
    "- The `dfs` function recursively explores the Trie to construct conditional pattern bases for a specific item.\n",
    "- When the current node's character matches the specified item, the function creates a conditional pattern base for the pattern constructed so far.\n",
    "- The conditional pattern base is stored in the `patBase` dictionary with the pattern as a tuple key and the count as the value.\n"
   ]
  },
  {
   "cell_type": "code",
   "execution_count": 11,
   "metadata": {},
   "outputs": [],
   "source": [
    "condPatBase = {}\n",
    "def dfs(node, pattern, item, patBase):\n",
    "    if node.char == item:\n",
    "        patBase[tuple(pattern.copy())] = node.count\n",
    "        return\n",
    "\n",
    "    for child in node.children:\n",
    "        new_pattern = pattern.copy()\n",
    "        if node.char != -1:\n",
    "            new_pattern.append(node.char)\n",
    "        dfs(child, new_pattern, item, patBase)"
   ]
  },
  {
   "cell_type": "code",
   "execution_count": 12,
   "metadata": {},
   "outputs": [],
   "source": [
    "for _, trimmed_row in trimmed_support_df.iterrows():\n",
    "    pattern = []\n",
    "    patBase = {}\n",
    "    movie_id = trimmed_row['movieId']  \n",
    "    dfs(root, pattern, int(movie_id), patBase)\n",
    "    condPatBase[int(movie_id)] = patBase.copy()\n"
   ]
  },
  {
   "cell_type": "markdown",
   "metadata": {},
   "source": [
    "# Conditional FP-Tree Construction Documentation\n",
    "\n",
    "The code below constructs conditional FP-trees based on conditional pattern bases derived from a Trie data structure. FP-trees are a data structure used for frequent pattern mining, and the code builds these trees for each conditional pattern base.\n",
    "\n",
    "## Conditional FP-Tree Construction Loop\n",
    "\n",
    "### Variables:\n",
    "- `conditional_fp_trees` (list): A list used to store conditional FP-trees.\n",
    "\n",
    "### Operation:\n",
    "- The code iterates through each item in the `condPatBase` dictionary, where each item represents a movie and its corresponding conditional pattern base.\n",
    "- For each conditional pattern in the pattern base, it calculates the total count by summing up the support values (counts).\n",
    "- It then identifies the intersection of patterns by comparing the patterns and stores the result in the `intersection_list` variable.\n",
    "- If the intersection list is not empty, it constructs a conditional FP-tree entry for the movie with the intersection pattern and its total count.\n",
    "- The conditional FP-tree entry is added to the `conditional_fp_trees` list.\n"
   ]
  },
  {
   "cell_type": "code",
   "execution_count": 13,
   "metadata": {},
   "outputs": [],
   "source": [
    "conditional_fp_trees = []\n",
    "\n",
    "for movie_id, patterns in condPatBase.items():\n",
    "    count = 0\n",
    "    intersection_list = []\n",
    "    for idx, (pattern, support) in enumerate(patterns.items()):\n",
    "        count += support\n",
    "        if idx == 0:\n",
    "            intersection_list = list(pattern)\n",
    "        else:\n",
    "            list2 = intersection_list.copy()\n",
    "            intersection_list = [item for item in pattern if item in list2]\n",
    "    if len(intersection_list) != 0:\n",
    "        conditional_fp_trees.append(\n",
    "            {movie_id : {\n",
    "                tuple(intersection_list) : count\n",
    "            }}\n",
    "        )"
   ]
  },
  {
   "cell_type": "markdown",
   "metadata": {},
   "source": [
    "### Parameters:\n",
    "- `s` (iterable): The input set from which subsets are generated.\n",
    "- `n` (int): The size of subsets to be generated.\n",
    "\n",
    "### Operation:\n",
    "- The `findsubsets` function uses itertools to generate all combinations of `n` elements from the input set `s`.\n",
    "- It returns the list of subsets as a list of tuples.\n",
    "\n",
    "## Frequent Pattern Itemsets Generation Loop\n",
    "\n",
    "### Variables:\n",
    "- `frequent_pattern_itemsets` (list): A list used to store the generated frequent pattern itemsets.\n",
    "\n",
    "### Operation:\n",
    "- The code iterates through each conditional FP-tree in the `conditional_fp_trees` list.\n",
    "- For each conditional FP-tree, it extracts movie IDs and their associated patterns.\n",
    "- It then generates all possible subsets of these patterns for different lengths (from 1 to the length of the pattern).\n",
    "- Each subset is combined with the movie ID and its count to form a frequent pattern itemset.\n",
    "- These itemsets are added to the `frequent_pattern_itemsets` list.\n"
   ]
  },
  {
   "cell_type": "code",
   "execution_count": 14,
   "metadata": {},
   "outputs": [],
   "source": [
    "import itertools\n",
    "def findsubsets(s, n):\n",
    "    return list(itertools.combinations(s, n))\n",
    " \n",
    "frequent_pattern_itemsets = []\n",
    "\n",
    "for cond_fp_tree in conditional_fp_trees:\n",
    "    for movie_id, patterns in cond_fp_tree.items():\n",
    "        for pattern, count in patterns.items():\n",
    "            # print(pattern, count)\n",
    "            subset = []\n",
    "            l = len(pattern)\n",
    "            for n in range(1, l+1):\n",
    "                subset.extend(list(findsubsets(pattern, n)))\n",
    "            # print(movie_id)\n",
    "            subset = [{tuple(list(item) + [movie_id]): count} for item in subset]\n",
    "            frequent_pattern_itemsets.extend(\n",
    "        tuple(subset)\n",
    "                \n",
    "            )"
   ]
  },
  {
   "cell_type": "markdown",
   "metadata": {},
   "source": [
    "### Variables:\n",
    "- `association_rules` (list): A list used to store the generated association rules.\n",
    "\n",
    "### Operation:\n",
    "- The code iterates through each frequent itemset in the `frequent_pattern_itemsets` list.\n",
    "- For each itemset, it extracts the individual items and their counts.\n",
    "- It calculates the confidence for each itemset by dividing the count by the support (frequency) of the item in a given dataset.\n",
    "- An association rule is constructed with the following components:\n",
    "  - \"X\": The item being analyzed (antecedent).\n",
    "  - \"Y\": The remaining items in the itemset (consequent).\n",
    "  - \"support\": The support (count) of the itemset.\n",
    "  - \"confidence\": The confidence of the rule.\n",
    "- Each association rule is added to the `association_rules` list.\n",
    "\n",
    "## Sorting Association Rules\n",
    "\n",
    "### Operation:\n",
    "- The code performs two sorting operations on the generated association rules:\n",
    "  - Sorts the association rules by support in descending order to find the top 100 rules based on support.\n",
    "  - Sorts the association rules by confidence in descending order to find the top 100 rules based on confidence.\n"
   ]
  },
  {
   "cell_type": "code",
   "execution_count": 15,
   "metadata": {},
   "outputs": [],
   "source": [
    "association_rules = []\n",
    "\n",
    "for freq_itemset in frequent_pattern_itemsets:\n",
    "    for itemset, count in freq_itemset.items():\n",
    "        for item in itemset:\n",
    "            rule = {\n",
    "                \"X\": item,\n",
    "                \"Y\": list(set(itemset).difference([item])),\n",
    "                \"support\": count,\n",
    "                \"confidence\": count / support_df[support_df['movieId'] == item]['support'].values[0]\n",
    "            }\n",
    "            association_rules.append(rule)"
   ]
  },
  {
   "cell_type": "code",
   "execution_count": 16,
   "metadata": {},
   "outputs": [],
   "source": [
    "# Sort by support in descending order\n",
    "association_rules_sorted_by_support = sorted(association_rules, key=lambda x: x['support'], reverse=True)\n",
    "\n",
    "association_rules_sorted_by_support_top100 = association_rules_sorted_by_support[:100]"
   ]
  },
  {
   "cell_type": "code",
   "execution_count": 17,
   "metadata": {},
   "outputs": [],
   "source": [
    "# Sort by confidence in descending order\n",
    "association_rules_sorted_by_confidence = sorted(association_rules, key=lambda x: x['confidence'], reverse=True)\n",
    "\n",
    "association_rules_sorted_by_confidence_top100 = association_rules_sorted_by_confidence[:100]"
   ]
  },
  {
   "cell_type": "code",
   "execution_count": 18,
   "metadata": {},
   "outputs": [],
   "source": [
    "movies_df = pd.read_csv('ml-latest-small/movies.csv')\n",
    "movies_df = movies_df[['movieId', 'title']]"
   ]
  },
  {
   "cell_type": "code",
   "execution_count": 19,
   "metadata": {},
   "outputs": [],
   "source": [
    "association_rules_sorted_by_support_top100_titles = [{item['X']: item['Y']} for item in association_rules_sorted_by_support_top100]\n",
    "association_rules_sorted_by_support_top100_titles = [{movies_df[movies_df['movieId'] == list(item.keys())[0]]['title'].values[0]: [movies_df[movies_df['movieId'] == movie_id]['title'].values[0] for movie_id in list(item.values())[0]]} for item in association_rules_sorted_by_support_top100_titles]\n",
    "# save it in a file named '3_top100RulesBySup.txt'\n",
    "with open('3_top100RulesBySup.txt', 'w') as f:\n",
    "    for item in association_rules_sorted_by_support_top100_titles:\n",
    "        f.write(\"%s\\n\" % item)\n",
    "\n",
    "association_rules_sorted_by_confidence_top100_titles = [{item['X']: item['Y']} for item in association_rules_sorted_by_confidence_top100]\n",
    "association_rules_sorted_by_confidence_top100_titles = [{movies_df[movies_df['movieId'] == list(item.keys())[0]]['title'].values[0]: [movies_df[movies_df['movieId'] == movie_id]['title'].values[0] for movie_id in list(item.values())[0]]} for item in association_rules_sorted_by_confidence_top100_titles]\n",
    "# save it in a file named '3_top100RulesByConf.txt'\n",
    "with open('3_top100RulesByConf.txt', 'w') as f:\n",
    "    for item in association_rules_sorted_by_confidence_top100_titles:\n",
    "        f.write(\"%s\\n\" % item)"
   ]
  },
  {
   "cell_type": "markdown",
   "metadata": {},
   "source": [
    "\n",
    "## Variables and Initialization:\n",
    "\n",
    "- `avg_recall` (float): Initialized to 0.0, it stores the cumulative average recall.\n",
    "- `avg_precision` (float): Initialized to 0.0, it stores the cumulative average precision.\n",
    "- `rule_num` (list): A list that contains the range of numbers of rules to be considered (e.g., [1, 2, 3, ..., 10]).\n",
    "- `avg_recall_list` (list): A list to store average recall values for each number of rules.\n",
    "- `avg_precision_list` (list): A list to store average precision values for each number of rules.\n",
    "\n",
    "## Calculation of Average Recall and Average Precision\n",
    "\n",
    "### Operation:\n",
    "- The code iterates through each number of rules specified in `rule_num`.\n",
    "- For each number of rules, it iterates through each row in the `test_df`, which contains test data.\n",
    "- For each user in the test data, it retrieves their test movies and the movies they have rated above 2 in the training data.\n",
    "- It generates a recommendation set by considering the top `num` association rules that match the movies in the training set.\n",
    "- It calculates recall as the ratio of the number of recommended movies that were also in the test set to the size of the test set.\n",
    "- It calculates precision as the ratio of the number of recommended movies that were also in the test set to the size of the recommendation set.\n",
    "- The cumulative average recall and precision are updated using a moving average formula.\n",
    "- The average recall and precision for the current number of rules are appended to the respective lists.\n"
   ]
  },
  {
   "cell_type": "code",
   "execution_count": 20,
   "metadata": {},
   "outputs": [],
   "source": [
    "avg_recall = 0.0\n",
    "avg_precision = 0.0\n",
    "rule_num = [i for i in range(1, 11)]\n",
    "avg_recall_list = []\n",
    "avg_precision_list = []\n",
    "\n",
    "for num in rule_num:\n",
    "    for idx, row in test_df.iterrows():\n",
    "        user_id = row['userId']\n",
    "        test_movies = row['test_movies']\n",
    "        train_movies = train_df[train_df['userId'] == user_id]['movies_rated_above_2'].values[0]\n",
    "        recommendation_set = []\n",
    "        for train_movie in train_movies:\n",
    "            counter = 0\n",
    "            for rule in association_rules_sorted_by_confidence:\n",
    "                if counter == num:\n",
    "                    break\n",
    "                if train_movie == rule['X']:\n",
    "                    recommendation_set += rule['Y']\n",
    "                    counter += 1\n",
    "        test_set = set(test_movies)\n",
    "        recommendation_set = set(recommendation_set)\n",
    "        hit_set = test_set.intersection(recommendation_set)\n",
    "\n",
    "        try:\n",
    "            recall = len(hit_set) / len(test_set)  \n",
    "        except ZeroDivisionError:\n",
    "            recall = 0 \n",
    "        avg_recall = avg_recall * (idx / (idx + 1)) + recall / (idx + 1)\n",
    "        try:\n",
    "            precision = len(hit_set) / len(recommendation_set)\n",
    "        except ZeroDivisionError:\n",
    "            precision = 0\n",
    "        avg_precision = avg_precision * (idx / (idx + 1)) + precision / (idx + 1)\n",
    "        \n",
    "    avg_recall_list.append(avg_recall)\n",
    "    avg_precision_list.append(avg_precision)"
   ]
  },
  {
   "cell_type": "code",
   "execution_count": 21,
   "metadata": {},
   "outputs": [
    {
     "data": {
      "image/png": "[encoded data removed]",
      "text/plain": [
       "<Figure size 640x480 with 1 Axes>"
      ]
     },
     "metadata": {},
     "output_type": "display_data"
    },
    {
     "data": {
      "image/png": "[encoded data removed]",
      "text/plain": [
       "<Figure size 640x480 with 1 Axes>"
      ]
     },
     "metadata": {},
     "output_type": "display_data"
    }
   ],
   "source": [
    "# plot average recall vs number of rules\n",
    "import matplotlib.pyplot as plt\n",
    "\n",
    "plt.plot(rule_num, avg_recall_list)\n",
    "plt.xlabel('Number of Rules')\n",
    "plt.ylabel('Average Recall')\n",
    "plt.title('Average Recall vs Number of Rules')\n",
    "plt.show()\n",
    "\n",
    "# plot average precision vs number of rules\n",
    "plt.plot(rule_num, avg_precision_list)\n",
    "plt.xlabel('Number of Rules')\n",
    "plt.ylabel('Average Precision')\n",
    "plt.title('Average Precision vs Number of Rules')\n",
    "plt.show()\n"
   ]
  }
 ],
 "metadata": {
  "kernelspec": {
   "display_name": "Python 3.10.12 64-bit",
   "language": "python",
   "name": "python3"
  },
  "language_info": {
   "codemirror_mode": {
    "name": "ipython",
    "version": 3
   },
   "file_extension": ".py",
   "mimetype": "text/x-python",
   "name": "python",
   "nbconvert_exporter": "python",
   "pygments_lexer": "ipython3",
   "version": "3.10.10"
  },
  "orig_nbformat": 4,
  "vscode": {
   "interpreter": {
    "hash": "916dbcbb3f70747c44a77c7bcd40155683ae19c65e1c03b4aa3499c5328201f1"
   }
  }
 },
 "nbformat": 4,
 "nbformat_minor": 2
}
