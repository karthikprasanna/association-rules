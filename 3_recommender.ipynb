{
 "cells": [
  {
   "cell_type": "code",
   "execution_count": 21,
   "metadata": {},
   "outputs": [],
   "source": [
    "import pandas as pd\n",
    "\n",
    "# Load the ratings dataset\n",
    "ratings_df = pd.read_csv('ml-latest-small/ratings.csv')\n",
    "\n",
    "# Filter ratings above 2\n",
    "filtered_ratings_df = ratings_df[ratings_df['rating'] > 2]\n",
    "\n",
    "# Group by 'userId' and count the number of movies rated by each user\n",
    "user_movie_counts = filtered_ratings_df.groupby('userId')['movieId'].count().reset_index()\n",
    "user_movie_counts.columns = ['userId', 'num_movies_rated']\n",
    "\n",
    "# Filter users who have rated more than 10 movies\n",
    "active_users = user_movie_counts[user_movie_counts['num_movies_rated'] > 10]\n",
    "\n",
    "# Filter the transactional data based on active users\n",
    "transactional_data = filtered_ratings_df[filtered_ratings_df['userId'].isin(active_users['userId'])]\n",
    "\n",
    "# Group by 'userId' and aggregate movies\n",
    "transactional_data = transactional_data.groupby('userId')['movieId'].apply(list).reset_index()\n",
    "transactional_data.columns = ['userId', 'movies_rated_above_2']"
   ]
  },
  {
   "cell_type": "code",
   "execution_count": 22,
   "metadata": {},
   "outputs": [],
   "source": [
    "from sklearn.model_selection import train_test_split\n",
    "import pandas as pd\n",
    "\n",
    "# Split data into training and test sets\n",
    "train_data = []\n",
    "test_data = []\n",
    "\n",
    "for _, row in transactional_data.iterrows():\n",
    "    user_id = row['userId']\n",
    "    movies_rated_above_2 = row['movies_rated_above_2']\n",
    "    \n",
    "    train_movies, test_movies = train_test_split(movies_rated_above_2, test_size=0.2, random_state=42)\n",
    "    \n",
    "    train_data.append({'userId': user_id, 'movies_rated_above_2': train_movies})\n",
    "    test_data.append({'userId': user_id, 'test_movies': test_movies})\n",
    "\n",
    "# Create DataFrames for training and test data after the loop\n",
    "train_df = pd.DataFrame(train_data)\n",
    "test_df = pd.DataFrame(test_data)"
   ]
  },
  {
   "cell_type": "code",
   "execution_count": 23,
   "metadata": {},
   "outputs": [],
   "source": [
    "# import pandas as pd\n",
    "\n",
    "# dataset = {\n",
    "#     \"userId\": [\"1\", \"2\", \"3\", \"4\", \"5\"],\n",
    "#     \"movies_rated_above_2\": [[5, 11, 13, 14, 15, 25],\n",
    "#                [4, 5, 11, 14, 15, 25],\n",
    "#                [1, 5, 11, 13],\n",
    "#                [3, 11, 13, 21, 25],\n",
    "#                [3, 5, 9, 11, 15]]\n",
    "# }\n",
    "\n",
    "# train_df = pd.DataFrame(dataset)\n",
    "\n",
    "minsup = 9"
   ]
  },
  {
   "cell_type": "code",
   "execution_count": 24,
   "metadata": {},
   "outputs": [],
   "source": [
    "# Create an empty dictionary to store movie support\n",
    "movie_support = {}\n",
    "\n",
    "# Iterate through each user's movies in the training set\n",
    "for _, row in train_df.iterrows():\n",
    "    train_movies = row['movies_rated_above_2']\n",
    "    \n",
    "    # Count the occurrences of each movie and update support\n",
    "    for movie in train_movies:\n",
    "        if movie in movie_support:\n",
    "            movie_support[movie] += 1\n",
    "        else:\n",
    "            movie_support[movie] = 1\n",
    "\n",
    "# Convert the movie support dictionary to a DataFrame\n",
    "support_df = pd.DataFrame(list(movie_support.items()), columns=['movieId', 'support'])\n",
    "\n",
    "# Sort the DataFrame by support in descending order\n",
    "support_df = support_df.sort_values(by='support', ascending=False)"
   ]
  },
  {
   "cell_type": "code",
   "execution_count": 25,
   "metadata": {},
   "outputs": [],
   "source": [
    "# Filter the DataFrame to keep only movies with support >= minsup\n",
    "trimmed_support_df = support_df[support_df['support'] >= minsup]"
   ]
  },
  {
   "cell_type": "code",
   "execution_count": 26,
   "metadata": {},
   "outputs": [
    {
     "ename": "KeyboardInterrupt",
     "evalue": "",
     "output_type": "error",
     "traceback": [
      "\u001b[0;31m---------------------------------------------------------------------------\u001b[0m",
      "\u001b[0;31mKeyboardInterrupt\u001b[0m                         Traceback (most recent call last)",
      "\u001b[1;32m/home/karthikprasanna/Desktop/da3/3_recommender.ipynb Cell 6\u001b[0m line \u001b[0;36m1\n\u001b[1;32m      <a href='vscode-notebook-cell:/home/karthikprasanna/Desktop/da3/3_recommender.ipynb#W5sZmlsZQ%3D%3D?line=7'>8</a>\u001b[0m     \u001b[39mreturn\u001b[39;00m trimmed_support_df[trimmed_support_df[\u001b[39m'\u001b[39m\u001b[39mmovieId\u001b[39m\u001b[39m'\u001b[39m] \u001b[39m==\u001b[39m movie][\u001b[39m'\u001b[39m\u001b[39msupport\u001b[39m\u001b[39m'\u001b[39m]\u001b[39m.\u001b[39mvalues[\u001b[39m0\u001b[39m]\n\u001b[1;32m     <a href='vscode-notebook-cell:/home/karthikprasanna/Desktop/da3/3_recommender.ipynb#W5sZmlsZQ%3D%3D?line=9'>10</a>\u001b[0m \u001b[39m# Sort movies by support count in descending order\u001b[39;00m\n\u001b[0;32m---> <a href='vscode-notebook-cell:/home/karthikprasanna/Desktop/da3/3_recommender.ipynb#W5sZmlsZQ%3D%3D?line=10'>11</a>\u001b[0m train_df[\u001b[39m'\u001b[39m\u001b[39mmovies_rated_above_2\u001b[39m\u001b[39m'\u001b[39m] \u001b[39m=\u001b[39m train_df[\u001b[39m'\u001b[39;49m\u001b[39mmovies_rated_above_2\u001b[39;49m\u001b[39m'\u001b[39;49m]\u001b[39m.\u001b[39;49mapply(\n\u001b[1;32m     <a href='vscode-notebook-cell:/home/karthikprasanna/Desktop/da3/3_recommender.ipynb#W5sZmlsZQ%3D%3D?line=11'>12</a>\u001b[0m     \u001b[39mlambda\u001b[39;49;00m movies: \u001b[39msorted\u001b[39;49m(movies, key\u001b[39m=\u001b[39;49mget_support_count, reverse\u001b[39m=\u001b[39;49m\u001b[39mTrue\u001b[39;49;00m)\n\u001b[1;32m     <a href='vscode-notebook-cell:/home/karthikprasanna/Desktop/da3/3_recommender.ipynb#W5sZmlsZQ%3D%3D?line=12'>13</a>\u001b[0m )\n",
      "File \u001b[0;32m~/.local/lib/python3.10/site-packages/pandas/core/series.py:4771\u001b[0m, in \u001b[0;36mSeries.apply\u001b[0;34m(self, func, convert_dtype, args, **kwargs)\u001b[0m\n\u001b[1;32m   4661\u001b[0m \u001b[39mdef\u001b[39;00m \u001b[39mapply\u001b[39m(\n\u001b[1;32m   4662\u001b[0m     \u001b[39mself\u001b[39m,\n\u001b[1;32m   4663\u001b[0m     func: AggFuncType,\n\u001b[0;32m   (...)\u001b[0m\n\u001b[1;32m   4666\u001b[0m     \u001b[39m*\u001b[39m\u001b[39m*\u001b[39mkwargs,\n\u001b[1;32m   4667\u001b[0m ) \u001b[39m-\u001b[39m\u001b[39m>\u001b[39m DataFrame \u001b[39m|\u001b[39m Series:\n\u001b[1;32m   4668\u001b[0m \u001b[39m    \u001b[39m\u001b[39m\"\"\"\u001b[39;00m\n\u001b[1;32m   4669\u001b[0m \u001b[39m    Invoke function on values of Series.\u001b[39;00m\n\u001b[1;32m   4670\u001b[0m \n\u001b[0;32m   (...)\u001b[0m\n\u001b[1;32m   4769\u001b[0m \u001b[39m    dtype: float64\u001b[39;00m\n\u001b[1;32m   4770\u001b[0m \u001b[39m    \"\"\"\u001b[39;00m\n\u001b[0;32m-> 4771\u001b[0m     \u001b[39mreturn\u001b[39;00m SeriesApply(\u001b[39mself\u001b[39;49m, func, convert_dtype, args, kwargs)\u001b[39m.\u001b[39;49mapply()\n",
      "File \u001b[0;32m~/.local/lib/python3.10/site-packages/pandas/core/apply.py:1123\u001b[0m, in \u001b[0;36mSeriesApply.apply\u001b[0;34m(self)\u001b[0m\n\u001b[1;32m   1120\u001b[0m     \u001b[39mreturn\u001b[39;00m \u001b[39mself\u001b[39m\u001b[39m.\u001b[39mapply_str()\n\u001b[1;32m   1122\u001b[0m \u001b[39m# self.f is Callable\u001b[39;00m\n\u001b[0;32m-> 1123\u001b[0m \u001b[39mreturn\u001b[39;00m \u001b[39mself\u001b[39;49m\u001b[39m.\u001b[39;49mapply_standard()\n",
      "File \u001b[0;32m~/.local/lib/python3.10/site-packages/pandas/core/apply.py:1174\u001b[0m, in \u001b[0;36mSeriesApply.apply_standard\u001b[0;34m(self)\u001b[0m\n\u001b[1;32m   1172\u001b[0m     \u001b[39melse\u001b[39;00m:\n\u001b[1;32m   1173\u001b[0m         values \u001b[39m=\u001b[39m obj\u001b[39m.\u001b[39mastype(\u001b[39mobject\u001b[39m)\u001b[39m.\u001b[39m_values\n\u001b[0;32m-> 1174\u001b[0m         mapped \u001b[39m=\u001b[39m lib\u001b[39m.\u001b[39;49mmap_infer(\n\u001b[1;32m   1175\u001b[0m             values,\n\u001b[1;32m   1176\u001b[0m             f,\n\u001b[1;32m   1177\u001b[0m             convert\u001b[39m=\u001b[39;49m\u001b[39mself\u001b[39;49m\u001b[39m.\u001b[39;49mconvert_dtype,\n\u001b[1;32m   1178\u001b[0m         )\n\u001b[1;32m   1180\u001b[0m \u001b[39mif\u001b[39;00m \u001b[39mlen\u001b[39m(mapped) \u001b[39mand\u001b[39;00m \u001b[39misinstance\u001b[39m(mapped[\u001b[39m0\u001b[39m], ABCSeries):\n\u001b[1;32m   1181\u001b[0m     \u001b[39m# GH#43986 Need to do list(mapped) in order to get treated as nested\u001b[39;00m\n\u001b[1;32m   1182\u001b[0m     \u001b[39m#  See also GH#25959 regarding EA support\u001b[39;00m\n\u001b[1;32m   1183\u001b[0m     \u001b[39mreturn\u001b[39;00m obj\u001b[39m.\u001b[39m_constructor_expanddim(\u001b[39mlist\u001b[39m(mapped), index\u001b[39m=\u001b[39mobj\u001b[39m.\u001b[39mindex)\n",
      "File \u001b[0;32m~/.local/lib/python3.10/site-packages/pandas/_libs/lib.pyx:2924\u001b[0m, in \u001b[0;36mpandas._libs.lib.map_infer\u001b[0;34m()\u001b[0m\n",
      "\u001b[1;32m/home/karthikprasanna/Desktop/da3/3_recommender.ipynb Cell 6\u001b[0m line \u001b[0;36m1\n\u001b[1;32m      <a href='vscode-notebook-cell:/home/karthikprasanna/Desktop/da3/3_recommender.ipynb#W5sZmlsZQ%3D%3D?line=7'>8</a>\u001b[0m     \u001b[39mreturn\u001b[39;00m trimmed_support_df[trimmed_support_df[\u001b[39m'\u001b[39m\u001b[39mmovieId\u001b[39m\u001b[39m'\u001b[39m] \u001b[39m==\u001b[39m movie][\u001b[39m'\u001b[39m\u001b[39msupport\u001b[39m\u001b[39m'\u001b[39m]\u001b[39m.\u001b[39mvalues[\u001b[39m0\u001b[39m]\n\u001b[1;32m     <a href='vscode-notebook-cell:/home/karthikprasanna/Desktop/da3/3_recommender.ipynb#W5sZmlsZQ%3D%3D?line=9'>10</a>\u001b[0m \u001b[39m# Sort movies by support count in descending order\u001b[39;00m\n\u001b[1;32m     <a href='vscode-notebook-cell:/home/karthikprasanna/Desktop/da3/3_recommender.ipynb#W5sZmlsZQ%3D%3D?line=10'>11</a>\u001b[0m train_df[\u001b[39m'\u001b[39m\u001b[39mmovies_rated_above_2\u001b[39m\u001b[39m'\u001b[39m] \u001b[39m=\u001b[39m train_df[\u001b[39m'\u001b[39m\u001b[39mmovies_rated_above_2\u001b[39m\u001b[39m'\u001b[39m]\u001b[39m.\u001b[39mapply(\n\u001b[0;32m---> <a href='vscode-notebook-cell:/home/karthikprasanna/Desktop/da3/3_recommender.ipynb#W5sZmlsZQ%3D%3D?line=11'>12</a>\u001b[0m     \u001b[39mlambda\u001b[39;00m movies: \u001b[39msorted\u001b[39;49m(movies, key\u001b[39m=\u001b[39;49mget_support_count, reverse\u001b[39m=\u001b[39;49m\u001b[39mTrue\u001b[39;49;00m)\n\u001b[1;32m     <a href='vscode-notebook-cell:/home/karthikprasanna/Desktop/da3/3_recommender.ipynb#W5sZmlsZQ%3D%3D?line=12'>13</a>\u001b[0m )\n",
      "\u001b[1;32m/home/karthikprasanna/Desktop/da3/3_recommender.ipynb Cell 6\u001b[0m line \u001b[0;36m8\n\u001b[1;32m      <a href='vscode-notebook-cell:/home/karthikprasanna/Desktop/da3/3_recommender.ipynb#W5sZmlsZQ%3D%3D?line=6'>7</a>\u001b[0m \u001b[39mdef\u001b[39;00m \u001b[39mget_support_count\u001b[39m(movie):\n\u001b[0;32m----> <a href='vscode-notebook-cell:/home/karthikprasanna/Desktop/da3/3_recommender.ipynb#W5sZmlsZQ%3D%3D?line=7'>8</a>\u001b[0m     \u001b[39mreturn\u001b[39;00m trimmed_support_df[trimmed_support_df[\u001b[39m'\u001b[39;49m\u001b[39mmovieId\u001b[39;49m\u001b[39m'\u001b[39;49m] \u001b[39m==\u001b[39;49m movie][\u001b[39m'\u001b[39m\u001b[39msupport\u001b[39m\u001b[39m'\u001b[39m]\u001b[39m.\u001b[39mvalues[\u001b[39m0\u001b[39m]\n",
      "File \u001b[0;32m~/.local/lib/python3.10/site-packages/pandas/core/frame.py:3798\u001b[0m, in \u001b[0;36mDataFrame.__getitem__\u001b[0;34m(self, key)\u001b[0m\n\u001b[1;32m   3796\u001b[0m \u001b[39m# Do we have a (boolean) 1d indexer?\u001b[39;00m\n\u001b[1;32m   3797\u001b[0m \u001b[39mif\u001b[39;00m com\u001b[39m.\u001b[39mis_bool_indexer(key):\n\u001b[0;32m-> 3798\u001b[0m     \u001b[39mreturn\u001b[39;00m \u001b[39mself\u001b[39;49m\u001b[39m.\u001b[39;49m_getitem_bool_array(key)\n\u001b[1;32m   3800\u001b[0m \u001b[39m# We are left with two options: a single key, and a collection of keys,\u001b[39;00m\n\u001b[1;32m   3801\u001b[0m \u001b[39m# We interpret tuples as collections only for non-MultiIndex\u001b[39;00m\n\u001b[1;32m   3802\u001b[0m is_single_key \u001b[39m=\u001b[39m \u001b[39misinstance\u001b[39m(key, \u001b[39mtuple\u001b[39m) \u001b[39mor\u001b[39;00m \u001b[39mnot\u001b[39;00m is_list_like(key)\n",
      "File \u001b[0;32m~/.local/lib/python3.10/site-packages/pandas/core/frame.py:3851\u001b[0m, in \u001b[0;36mDataFrame._getitem_bool_array\u001b[0;34m(self, key)\u001b[0m\n\u001b[1;32m   3845\u001b[0m     \u001b[39mraise\u001b[39;00m \u001b[39mValueError\u001b[39;00m(\n\u001b[1;32m   3846\u001b[0m         \u001b[39mf\u001b[39m\u001b[39m\"\u001b[39m\u001b[39mItem wrong length \u001b[39m\u001b[39m{\u001b[39;00m\u001b[39mlen\u001b[39m(key)\u001b[39m}\u001b[39;00m\u001b[39m instead of \u001b[39m\u001b[39m{\u001b[39;00m\u001b[39mlen\u001b[39m(\u001b[39mself\u001b[39m\u001b[39m.\u001b[39mindex)\u001b[39m}\u001b[39;00m\u001b[39m.\u001b[39m\u001b[39m\"\u001b[39m\n\u001b[1;32m   3847\u001b[0m     )\n\u001b[1;32m   3849\u001b[0m \u001b[39m# check_bool_indexer will throw exception if Series key cannot\u001b[39;00m\n\u001b[1;32m   3850\u001b[0m \u001b[39m# be reindexed to match DataFrame rows\u001b[39;00m\n\u001b[0;32m-> 3851\u001b[0m key \u001b[39m=\u001b[39m check_bool_indexer(\u001b[39mself\u001b[39;49m\u001b[39m.\u001b[39;49mindex, key)\n\u001b[1;32m   3852\u001b[0m indexer \u001b[39m=\u001b[39m key\u001b[39m.\u001b[39mnonzero()[\u001b[39m0\u001b[39m]\n\u001b[1;32m   3853\u001b[0m \u001b[39mreturn\u001b[39;00m \u001b[39mself\u001b[39m\u001b[39m.\u001b[39m_take_with_is_copy(indexer, axis\u001b[39m=\u001b[39m\u001b[39m0\u001b[39m)\n",
      "File \u001b[0;32m~/.local/lib/python3.10/site-packages/pandas/core/indexing.py:2564\u001b[0m, in \u001b[0;36mcheck_bool_indexer\u001b[0;34m(index, key)\u001b[0m\n\u001b[1;32m   2561\u001b[0m     \u001b[39mif\u001b[39;00m \u001b[39mnot\u001b[39;00m is_extension_array_dtype(result\u001b[39m.\u001b[39mdtype):\n\u001b[1;32m   2562\u001b[0m         \u001b[39mreturn\u001b[39;00m result\u001b[39m.\u001b[39mastype(\u001b[39mbool\u001b[39m)\u001b[39m.\u001b[39m_values\n\u001b[0;32m-> 2564\u001b[0m \u001b[39mif\u001b[39;00m is_object_dtype(key):\n\u001b[1;32m   2565\u001b[0m     \u001b[39m# key might be object-dtype bool, check_array_indexer needs bool array\u001b[39;00m\n\u001b[1;32m   2566\u001b[0m     result \u001b[39m=\u001b[39m np\u001b[39m.\u001b[39masarray(result, dtype\u001b[39m=\u001b[39m\u001b[39mbool\u001b[39m)\n\u001b[1;32m   2567\u001b[0m \u001b[39melif\u001b[39;00m \u001b[39mnot\u001b[39;00m is_array_like(result):\n\u001b[1;32m   2568\u001b[0m     \u001b[39m# GH 33924\u001b[39;00m\n\u001b[1;32m   2569\u001b[0m     \u001b[39m# key may contain nan elements, check_array_indexer needs bool array\u001b[39;00m\n",
      "\u001b[0;31mKeyboardInterrupt\u001b[0m: "
     ]
    }
   ],
   "source": [
    "\n",
    "# Filter movies in train_df based on minsup\n",
    "train_df['movies_rated_above_2'] = train_df['movies_rated_above_2'].apply(\n",
    "    lambda movies: [movie for movie in movies if movie in trimmed_support_df['movieId'].values]\n",
    ")\n",
    "\n",
    "# Function to get the support count of a movie\n",
    "def get_support_count(movie):\n",
    "    return trimmed_support_df[trimmed_support_df['movieId'] == movie]['support'].values[0]\n",
    "\n",
    "# Sort movies by support count in descending order\n",
    "train_df['movies_rated_above_2'] = train_df['movies_rated_above_2'].apply(\n",
    "    lambda movies: sorted(movies, key=get_support_count, reverse=True)\n",
    ")\n"
   ]
  },
  {
   "cell_type": "code",
   "execution_count": null,
   "metadata": {},
   "outputs": [],
   "source": [
    "# Define a function to get the support count of a movie from the trimmed_support_df\n",
    "def get_support(movie_id):\n",
    "    support_row = trimmed_support_df[trimmed_support_df['movieId'] == movie_id]\n",
    "    if not support_row.empty:\n",
    "        return support_row['support'].values[0]\n",
    "    else:\n",
    "        return 0  # Default support count for movies not found in trimmed_support_df\n",
    "\n",
    "# Sort the movies_rated_above_2 column in train_df based on trimmed_support count\n",
    "train_df['movies_rated_above_2'] = train_df['movies_rated_above_2'].apply(\n",
    "    lambda movies: sorted(movies, key=get_support, reverse=True)\n",
    ")"
   ]
  },
  {
   "cell_type": "markdown",
   "metadata": {},
   "source": [
    "# Trie Data Structure Documentation\n",
    "\n",
    "The code below implements a Trie data structure. A Trie, also known as a Prefix Tree, is a tree-like data structure used to efficiently store and retrieve a dynamic set of strings. Each node in the Trie represents a character, and the path from the root to a particular node forms a string.\n",
    "\n",
    "## `TrieNode` Class\n",
    "\n",
    "### Constructor `__init__(self)`\n",
    "\n",
    "- Initializes a `TrieNode` object.\n",
    "- Attributes:\n",
    "  - `char`: The character associated with the node. Default value is -1.\n",
    "  - `count`: The count of words that pass through this node. Default value is 0.\n",
    "  - `children`: A list of child nodes, each representing a character. Initially empty.\n"
   ]
  },
  {
   "cell_type": "code",
   "execution_count": null,
   "metadata": {},
   "outputs": [],
   "source": [
    "class TrieNode:\n",
    "    def __init__(self):\n",
    "        self.char = -1\n",
    "        self.count = 0\n",
    "        self.children = []\n",
    "\n",
    "root = TrieNode()"
   ]
  },
  {
   "cell_type": "markdown",
   "metadata": {},
   "source": [
    "## `root` Variable\n",
    "\n",
    "- Initializes the root of the Trie as an instance of the `TrieNode` class. This root serves as the starting point for inserting and searching words in the Trie.\n",
    "\n",
    "## `insert(word)` Function\n",
    "\n",
    "### Parameters:\n",
    "- `word` (str): The word to be inserted into the Trie.\n",
    "\n",
    "### Operation:\n",
    "- Inserts a word into the Trie by iterating through each character in the word and creating the necessary nodes as needed.\n",
    "- If a character already exists as a child of the current node, it increments the count for that character's node.\n",
    "- If a character does not exist as a child of the current node, it creates a new node and appends it to the list of children, updating the count.\n",
    "- The `root` variable always remains the starting point for each insertion.\n"
   ]
  },
  {
   "cell_type": "code",
   "execution_count": null,
   "metadata": {},
   "outputs": [],
   "source": [
    "def insert(word):\n",
    "    node = root\n",
    "    for char in word:\n",
    "        found = False\n",
    "        for child in node.children:\n",
    "            if child.char == char:\n",
    "                node = child\n",
    "                node.count += 1\n",
    "                found = True\n",
    "                break\n",
    "\n",
    "        if not found:\n",
    "            new_node = TrieNode()\n",
    "            new_node.char = char\n",
    "            new_node.count = 1\n",
    "            node.children.append(new_node)\n",
    "            node = new_node"
   ]
  },
  {
   "cell_type": "code",
   "execution_count": null,
   "metadata": {},
   "outputs": [],
   "source": [
    "for _, row in train_df.iterrows():\n",
    "    transaction = row['movies_rated_above_2']\n",
    "    insert(transaction)"
   ]
  },
  {
   "cell_type": "markdown",
   "metadata": {},
   "source": [
    "# DFS Function for Trie Pattern Matching Documentation\n",
    "\n",
    "The code below defines a Depth-First Search (DFS) function used for pattern matching in a Trie data structure. This function traverses the Trie and generates conditional pattern bases for a specific item.\n",
    "\n",
    "## Function: `dfs(node, pattern, item, patBase)`\n",
    "\n",
    "### Parameters:\n",
    "- `node` (TrieNode): The current node being explored in the Trie.\n",
    "- `pattern` (list): A list of characters representing the current pattern being constructed.\n",
    "- `item` (int): The item (character) for which conditional pattern bases are generated.\n",
    "- `patBase` (dict): A dictionary that stores the conditional pattern bases.\n",
    "\n",
    "### Operation:\n",
    "- The `dfs` function recursively explores the Trie to construct conditional pattern bases for a specific item.\n",
    "- When the current node's character matches the specified item, the function creates a conditional pattern base for the pattern constructed so far.\n",
    "- The conditional pattern base is stored in the `patBase` dictionary with the pattern as a tuple key and the count as the value.\n"
   ]
  },
  {
   "cell_type": "code",
   "execution_count": null,
   "metadata": {},
   "outputs": [],
   "source": [
    "condPatBase = {}\n",
    "def dfs(node, pattern, item, patBase):\n",
    "    if node.char == item:\n",
    "        patBase[tuple(pattern.copy())] = node.count\n",
    "        return\n",
    "\n",
    "    for child in node.children:\n",
    "        new_pattern = pattern.copy()\n",
    "        if node.char != -1:\n",
    "            new_pattern.append(node.char)\n",
    "        dfs(child, new_pattern, item, patBase)"
   ]
  },
  {
   "cell_type": "code",
   "execution_count": null,
   "metadata": {},
   "outputs": [],
   "source": [
    "for _, trimmed_row in trimmed_support_df.iterrows():\n",
    "    pattern = []\n",
    "    patBase = {}\n",
    "    movie_id = trimmed_row['movieId']  \n",
    "    dfs(root, pattern, int(movie_id), patBase)\n",
    "    condPatBase[int(movie_id)] = patBase.copy()\n"
   ]
  },
  {
   "cell_type": "markdown",
   "metadata": {},
   "source": [
    "# Conditional FP-Tree Construction Documentation\n",
    "\n",
    "The code below constructs conditional FP-trees based on conditional pattern bases derived from a Trie data structure. FP-trees are a data structure used for frequent pattern mining, and the code builds these trees for each conditional pattern base.\n",
    "\n",
    "## Conditional FP-Tree Construction Loop\n",
    "\n",
    "### Variables:\n",
    "- `conditional_fp_trees` (list): A list used to store conditional FP-trees.\n",
    "\n",
    "### Operation:\n",
    "- The code iterates through each item in the `condPatBase` dictionary, where each item represents a movie and its corresponding conditional pattern base.\n",
    "- For each conditional pattern in the pattern base, it calculates the total count by summing up the support values (counts).\n",
    "- It then identifies the intersection of patterns by comparing the patterns and stores the result in the `intersection_list` variable.\n",
    "- If the intersection list is not empty, it constructs a conditional FP-tree entry for the movie with the intersection pattern and its total count.\n",
    "- The conditional FP-tree entry is added to the `conditional_fp_trees` list.\n"
   ]
  },
  {
   "cell_type": "code",
   "execution_count": null,
   "metadata": {},
   "outputs": [],
   "source": [
    "conditional_fp_trees = []\n",
    "\n",
    "for movie_id, patterns in condPatBase.items():\n",
    "    count = 0\n",
    "    intersection_list = []\n",
    "    for idx, (pattern, support) in enumerate(patterns.items()):\n",
    "        count += support\n",
    "        if idx == 0:\n",
    "            intersection_list = list(pattern)\n",
    "        else:\n",
    "            list2 = intersection_list.copy()\n",
    "            intersection_list = [item for item in pattern if item in list2]\n",
    "    if len(intersection_list) != 0:\n",
    "        conditional_fp_trees.append(\n",
    "            {movie_id : {\n",
    "                tuple(intersection_list) : count\n",
    "            }}\n",
    "        )"
   ]
  },
  {
   "cell_type": "markdown",
   "metadata": {},
   "source": [
    "### Parameters:\n",
    "- `s` (iterable): The input set from which subsets are generated.\n",
    "- `n` (int): The size of subsets to be generated.\n",
    "\n",
    "### Operation:\n",
    "- The `findsubsets` function uses itertools to generate all combinations of `n` elements from the input set `s`.\n",
    "- It returns the list of subsets as a list of tuples.\n",
    "\n",
    "## Frequent Pattern Itemsets Generation Loop\n",
    "\n",
    "### Variables:\n",
    "- `frequent_pattern_itemsets` (list): A list used to store the generated frequent pattern itemsets.\n",
    "\n",
    "### Operation:\n",
    "- The code iterates through each conditional FP-tree in the `conditional_fp_trees` list.\n",
    "- For each conditional FP-tree, it extracts movie IDs and their associated patterns.\n",
    "- It then generates all possible subsets of these patterns for different lengths (from 1 to the length of the pattern).\n",
    "- Each subset is combined with the movie ID and its count to form a frequent pattern itemset.\n",
    "- These itemsets are added to the `frequent_pattern_itemsets` list.\n"
   ]
  },
  {
   "cell_type": "code",
   "execution_count": null,
   "metadata": {},
   "outputs": [],
   "source": [
    "import itertools\n",
    "def findsubsets(s, n):\n",
    "    return list(itertools.combinations(s, n))\n",
    " \n",
    "frequent_pattern_itemsets = []\n",
    "\n",
    "for cond_fp_tree in conditional_fp_trees:\n",
    "    for movie_id, patterns in cond_fp_tree.items():\n",
    "        for pattern, count in patterns.items():\n",
    "            # print(pattern, count)\n",
    "            subset = []\n",
    "            l = len(pattern)\n",
    "            for n in range(1, l+1):\n",
    "                subset.extend(list(findsubsets(pattern, n)))\n",
    "            # print(movie_id)\n",
    "            subset = [{tuple(list(item) + [movie_id]): count} for item in subset]\n",
    "            frequent_pattern_itemsets.extend(\n",
    "        tuple(subset)\n",
    "                \n",
    "            )"
   ]
  },
  {
   "cell_type": "markdown",
   "metadata": {},
   "source": [
    "### Variables:\n",
    "- `association_rules` (list): A list used to store the generated association rules.\n",
    "\n",
    "### Operation:\n",
    "- The code iterates through each frequent itemset in the `frequent_pattern_itemsets` list.\n",
    "- For each itemset, it extracts the individual items and their counts.\n",
    "- It calculates the confidence for each itemset by dividing the count by the support (frequency) of the item in a given dataset.\n",
    "- An association rule is constructed with the following components:\n",
    "  - \"X\": The item being analyzed (antecedent).\n",
    "  - \"Y\": The remaining items in the itemset (consequent).\n",
    "  - \"support\": The support (count) of the itemset.\n",
    "  - \"confidence\": The confidence of the rule.\n",
    "- Each association rule is added to the `association_rules` list.\n",
    "\n",
    "## Sorting Association Rules\n",
    "\n",
    "### Operation:\n",
    "- The code performs two sorting operations on the generated association rules:\n",
    "  - Sorts the association rules by support in descending order to find the top 100 rules based on support.\n",
    "  - Sorts the association rules by confidence in descending order to find the top 100 rules based on confidence.\n"
   ]
  },
  {
   "cell_type": "code",
   "execution_count": null,
   "metadata": {},
   "outputs": [
    {
     "ename": "KeyboardInterrupt",
     "evalue": "",
     "output_type": "error",
     "traceback": [
      "\u001b[0;31m---------------------------------------------------------------------------\u001b[0m",
      "\u001b[0;31mKeyboardInterrupt\u001b[0m                         Traceback (most recent call last)",
      "\u001b[1;32m/home/karthikprasanna/Desktop/da3/3_recommender.ipynb Cell 21\u001b[0m line \u001b[0;36m1\n\u001b[1;32m      <a href='vscode-notebook-cell:/home/karthikprasanna/Desktop/da3/3_recommender.ipynb#X20sZmlsZQ%3D%3D?line=3'>4</a>\u001b[0m \u001b[39mfor\u001b[39;00m itemset, count \u001b[39min\u001b[39;00m freq_itemset\u001b[39m.\u001b[39mitems():\n\u001b[1;32m      <a href='vscode-notebook-cell:/home/karthikprasanna/Desktop/da3/3_recommender.ipynb#X20sZmlsZQ%3D%3D?line=4'>5</a>\u001b[0m     \u001b[39mfor\u001b[39;00m item \u001b[39min\u001b[39;00m itemset:\n\u001b[1;32m      <a href='vscode-notebook-cell:/home/karthikprasanna/Desktop/da3/3_recommender.ipynb#X20sZmlsZQ%3D%3D?line=5'>6</a>\u001b[0m         rule \u001b[39m=\u001b[39m {\n\u001b[1;32m      <a href='vscode-notebook-cell:/home/karthikprasanna/Desktop/da3/3_recommender.ipynb#X20sZmlsZQ%3D%3D?line=6'>7</a>\u001b[0m             \u001b[39m\"\u001b[39m\u001b[39mX\u001b[39m\u001b[39m\"\u001b[39m: item,\n\u001b[1;32m      <a href='vscode-notebook-cell:/home/karthikprasanna/Desktop/da3/3_recommender.ipynb#X20sZmlsZQ%3D%3D?line=7'>8</a>\u001b[0m             \u001b[39m\"\u001b[39m\u001b[39mY\u001b[39m\u001b[39m\"\u001b[39m: \u001b[39mlist\u001b[39m(\u001b[39mset\u001b[39m(itemset)\u001b[39m.\u001b[39mdifference([item])),\n\u001b[1;32m      <a href='vscode-notebook-cell:/home/karthikprasanna/Desktop/da3/3_recommender.ipynb#X20sZmlsZQ%3D%3D?line=8'>9</a>\u001b[0m             \u001b[39m\"\u001b[39m\u001b[39msupport\u001b[39m\u001b[39m\"\u001b[39m: count,\n\u001b[0;32m---> <a href='vscode-notebook-cell:/home/karthikprasanna/Desktop/da3/3_recommender.ipynb#X20sZmlsZQ%3D%3D?line=9'>10</a>\u001b[0m             \u001b[39m\"\u001b[39m\u001b[39mconfidence\u001b[39m\u001b[39m\"\u001b[39m: count \u001b[39m/\u001b[39m support_df[support_df[\u001b[39m'\u001b[39;49m\u001b[39mmovieId\u001b[39;49m\u001b[39m'\u001b[39;49m] \u001b[39m==\u001b[39;49m item][\u001b[39m'\u001b[39m\u001b[39msupport\u001b[39m\u001b[39m'\u001b[39m]\u001b[39m.\u001b[39mvalues[\u001b[39m0\u001b[39m]\n\u001b[1;32m     <a href='vscode-notebook-cell:/home/karthikprasanna/Desktop/da3/3_recommender.ipynb#X20sZmlsZQ%3D%3D?line=10'>11</a>\u001b[0m         }\n\u001b[1;32m     <a href='vscode-notebook-cell:/home/karthikprasanna/Desktop/da3/3_recommender.ipynb#X20sZmlsZQ%3D%3D?line=11'>12</a>\u001b[0m         association_rules\u001b[39m.\u001b[39mappend(rule)\n",
      "File \u001b[0;32m~/.local/lib/python3.10/site-packages/pandas/core/frame.py:3798\u001b[0m, in \u001b[0;36mDataFrame.__getitem__\u001b[0;34m(self, key)\u001b[0m\n\u001b[1;32m   3796\u001b[0m \u001b[39m# Do we have a (boolean) 1d indexer?\u001b[39;00m\n\u001b[1;32m   3797\u001b[0m \u001b[39mif\u001b[39;00m com\u001b[39m.\u001b[39mis_bool_indexer(key):\n\u001b[0;32m-> 3798\u001b[0m     \u001b[39mreturn\u001b[39;00m \u001b[39mself\u001b[39;49m\u001b[39m.\u001b[39;49m_getitem_bool_array(key)\n\u001b[1;32m   3800\u001b[0m \u001b[39m# We are left with two options: a single key, and a collection of keys,\u001b[39;00m\n\u001b[1;32m   3801\u001b[0m \u001b[39m# We interpret tuples as collections only for non-MultiIndex\u001b[39;00m\n\u001b[1;32m   3802\u001b[0m is_single_key \u001b[39m=\u001b[39m \u001b[39misinstance\u001b[39m(key, \u001b[39mtuple\u001b[39m) \u001b[39mor\u001b[39;00m \u001b[39mnot\u001b[39;00m is_list_like(key)\n",
      "File \u001b[0;32m~/.local/lib/python3.10/site-packages/pandas/core/frame.py:3853\u001b[0m, in \u001b[0;36mDataFrame._getitem_bool_array\u001b[0;34m(self, key)\u001b[0m\n\u001b[1;32m   3851\u001b[0m key \u001b[39m=\u001b[39m check_bool_indexer(\u001b[39mself\u001b[39m\u001b[39m.\u001b[39mindex, key)\n\u001b[1;32m   3852\u001b[0m indexer \u001b[39m=\u001b[39m key\u001b[39m.\u001b[39mnonzero()[\u001b[39m0\u001b[39m]\n\u001b[0;32m-> 3853\u001b[0m \u001b[39mreturn\u001b[39;00m \u001b[39mself\u001b[39;49m\u001b[39m.\u001b[39;49m_take_with_is_copy(indexer, axis\u001b[39m=\u001b[39;49m\u001b[39m0\u001b[39;49m)\n",
      "File \u001b[0;32m~/.local/lib/python3.10/site-packages/pandas/core/generic.py:3902\u001b[0m, in \u001b[0;36mNDFrame._take_with_is_copy\u001b[0;34m(self, indices, axis)\u001b[0m\n\u001b[1;32m   3894\u001b[0m \u001b[39mdef\u001b[39;00m \u001b[39m_take_with_is_copy\u001b[39m(\u001b[39mself\u001b[39m: NDFrameT, indices, axis\u001b[39m=\u001b[39m\u001b[39m0\u001b[39m) \u001b[39m-\u001b[39m\u001b[39m>\u001b[39m NDFrameT:\n\u001b[1;32m   3895\u001b[0m \u001b[39m    \u001b[39m\u001b[39m\"\"\"\u001b[39;00m\n\u001b[1;32m   3896\u001b[0m \u001b[39m    Internal version of the `take` method that sets the `_is_copy`\u001b[39;00m\n\u001b[1;32m   3897\u001b[0m \u001b[39m    attribute to keep track of the parent dataframe (using in indexing\u001b[39;00m\n\u001b[0;32m   (...)\u001b[0m\n\u001b[1;32m   3900\u001b[0m \u001b[39m    See the docstring of `take` for full explanation of the parameters.\u001b[39;00m\n\u001b[1;32m   3901\u001b[0m \u001b[39m    \"\"\"\u001b[39;00m\n\u001b[0;32m-> 3902\u001b[0m     result \u001b[39m=\u001b[39m \u001b[39mself\u001b[39;49m\u001b[39m.\u001b[39;49m_take(indices\u001b[39m=\u001b[39;49mindices, axis\u001b[39m=\u001b[39;49maxis)\n\u001b[1;32m   3903\u001b[0m     \u001b[39m# Maybe set copy if we didn't actually change the index.\u001b[39;00m\n\u001b[1;32m   3904\u001b[0m     \u001b[39mif\u001b[39;00m \u001b[39mnot\u001b[39;00m result\u001b[39m.\u001b[39m_get_axis(axis)\u001b[39m.\u001b[39mequals(\u001b[39mself\u001b[39m\u001b[39m.\u001b[39m_get_axis(axis)):\n",
      "File \u001b[0;32m~/.local/lib/python3.10/site-packages/pandas/core/generic.py:3886\u001b[0m, in \u001b[0;36mNDFrame._take\u001b[0;34m(self, indices, axis, convert_indices)\u001b[0m\n\u001b[1;32m   3879\u001b[0m \u001b[39m\u001b[39m\u001b[39m\"\"\"\u001b[39;00m\n\u001b[1;32m   3880\u001b[0m \u001b[39mInternal version of the `take` allowing specification of additional args.\u001b[39;00m\n\u001b[1;32m   3881\u001b[0m \n\u001b[1;32m   3882\u001b[0m \u001b[39mSee the docstring of `take` for full explanation of the parameters.\u001b[39;00m\n\u001b[1;32m   3883\u001b[0m \u001b[39m\"\"\"\u001b[39;00m\n\u001b[1;32m   3884\u001b[0m \u001b[39mself\u001b[39m\u001b[39m.\u001b[39m_consolidate_inplace()\n\u001b[0;32m-> 3886\u001b[0m new_data \u001b[39m=\u001b[39m \u001b[39mself\u001b[39;49m\u001b[39m.\u001b[39;49m_mgr\u001b[39m.\u001b[39;49mtake(\n\u001b[1;32m   3887\u001b[0m     indices,\n\u001b[1;32m   3888\u001b[0m     axis\u001b[39m=\u001b[39;49m\u001b[39mself\u001b[39;49m\u001b[39m.\u001b[39;49m_get_block_manager_axis(axis),\n\u001b[1;32m   3889\u001b[0m     verify\u001b[39m=\u001b[39;49m\u001b[39mTrue\u001b[39;49;00m,\n\u001b[1;32m   3890\u001b[0m     convert_indices\u001b[39m=\u001b[39;49mconvert_indices,\n\u001b[1;32m   3891\u001b[0m )\n\u001b[1;32m   3892\u001b[0m \u001b[39mreturn\u001b[39;00m \u001b[39mself\u001b[39m\u001b[39m.\u001b[39m_constructor(new_data)\u001b[39m.\u001b[39m__finalize__(\u001b[39mself\u001b[39m, method\u001b[39m=\u001b[39m\u001b[39m\"\u001b[39m\u001b[39mtake\u001b[39m\u001b[39m\"\u001b[39m)\n",
      "File \u001b[0;32m~/.local/lib/python3.10/site-packages/pandas/core/internals/managers.py:978\u001b[0m, in \u001b[0;36mBaseBlockManager.take\u001b[0;34m(self, indexer, axis, verify, convert_indices)\u001b[0m\n\u001b[1;32m    975\u001b[0m     indexer \u001b[39m=\u001b[39m maybe_convert_indices(indexer, n, verify\u001b[39m=\u001b[39mverify)\n\u001b[1;32m    977\u001b[0m new_labels \u001b[39m=\u001b[39m \u001b[39mself\u001b[39m\u001b[39m.\u001b[39maxes[axis]\u001b[39m.\u001b[39mtake(indexer)\n\u001b[0;32m--> 978\u001b[0m \u001b[39mreturn\u001b[39;00m \u001b[39mself\u001b[39;49m\u001b[39m.\u001b[39;49mreindex_indexer(\n\u001b[1;32m    979\u001b[0m     new_axis\u001b[39m=\u001b[39;49mnew_labels,\n\u001b[1;32m    980\u001b[0m     indexer\u001b[39m=\u001b[39;49mindexer,\n\u001b[1;32m    981\u001b[0m     axis\u001b[39m=\u001b[39;49maxis,\n\u001b[1;32m    982\u001b[0m     allow_dups\u001b[39m=\u001b[39;49m\u001b[39mTrue\u001b[39;49;00m,\n\u001b[1;32m    983\u001b[0m     copy\u001b[39m=\u001b[39;49m\u001b[39mNone\u001b[39;49;00m,\n\u001b[1;32m    984\u001b[0m )\n",
      "File \u001b[0;32m~/.local/lib/python3.10/site-packages/pandas/core/internals/managers.py:751\u001b[0m, in \u001b[0;36mBaseBlockManager.reindex_indexer\u001b[0;34m(self, new_axis, indexer, axis, fill_value, allow_dups, copy, only_slice, use_na_proxy)\u001b[0m\n\u001b[1;32m    749\u001b[0m     parent \u001b[39m=\u001b[39m \u001b[39mNone\u001b[39;00m \u001b[39mif\u001b[39;00m com\u001b[39m.\u001b[39mall_none(\u001b[39m*\u001b[39mnew_refs) \u001b[39melse\u001b[39;00m \u001b[39mself\u001b[39m\n\u001b[1;32m    750\u001b[0m \u001b[39melse\u001b[39;00m:\n\u001b[0;32m--> 751\u001b[0m     new_blocks \u001b[39m=\u001b[39m [\n\u001b[1;32m    752\u001b[0m         blk\u001b[39m.\u001b[39mtake_nd(\n\u001b[1;32m    753\u001b[0m             indexer,\n\u001b[1;32m    754\u001b[0m             axis\u001b[39m=\u001b[39m\u001b[39m1\u001b[39m,\n\u001b[1;32m    755\u001b[0m             fill_value\u001b[39m=\u001b[39m(\n\u001b[1;32m    756\u001b[0m                 fill_value \u001b[39mif\u001b[39;00m fill_value \u001b[39mis\u001b[39;00m \u001b[39mnot\u001b[39;00m \u001b[39mNone\u001b[39;00m \u001b[39melse\u001b[39;00m blk\u001b[39m.\u001b[39mfill_value\n\u001b[1;32m    757\u001b[0m             ),\n\u001b[1;32m    758\u001b[0m         )\n\u001b[1;32m    759\u001b[0m         \u001b[39mfor\u001b[39;00m blk \u001b[39min\u001b[39;00m \u001b[39mself\u001b[39m\u001b[39m.\u001b[39mblocks\n\u001b[1;32m    760\u001b[0m     ]\n\u001b[1;32m    761\u001b[0m     new_refs \u001b[39m=\u001b[39m \u001b[39mNone\u001b[39;00m\n\u001b[1;32m    762\u001b[0m     parent \u001b[39m=\u001b[39m \u001b[39mNone\u001b[39;00m\n",
      "File \u001b[0;32m~/.local/lib/python3.10/site-packages/pandas/core/internals/managers.py:752\u001b[0m, in \u001b[0;36m<listcomp>\u001b[0;34m(.0)\u001b[0m\n\u001b[1;32m    749\u001b[0m     parent \u001b[39m=\u001b[39m \u001b[39mNone\u001b[39;00m \u001b[39mif\u001b[39;00m com\u001b[39m.\u001b[39mall_none(\u001b[39m*\u001b[39mnew_refs) \u001b[39melse\u001b[39;00m \u001b[39mself\u001b[39m\n\u001b[1;32m    750\u001b[0m \u001b[39melse\u001b[39;00m:\n\u001b[1;32m    751\u001b[0m     new_blocks \u001b[39m=\u001b[39m [\n\u001b[0;32m--> 752\u001b[0m         blk\u001b[39m.\u001b[39;49mtake_nd(\n\u001b[1;32m    753\u001b[0m             indexer,\n\u001b[1;32m    754\u001b[0m             axis\u001b[39m=\u001b[39;49m\u001b[39m1\u001b[39;49m,\n\u001b[1;32m    755\u001b[0m             fill_value\u001b[39m=\u001b[39;49m(\n\u001b[1;32m    756\u001b[0m                 fill_value \u001b[39mif\u001b[39;49;00m fill_value \u001b[39mis\u001b[39;49;00m \u001b[39mnot\u001b[39;49;00m \u001b[39mNone\u001b[39;49;00m \u001b[39melse\u001b[39;49;00m blk\u001b[39m.\u001b[39;49mfill_value\n\u001b[1;32m    757\u001b[0m             ),\n\u001b[1;32m    758\u001b[0m         )\n\u001b[1;32m    759\u001b[0m         \u001b[39mfor\u001b[39;00m blk \u001b[39min\u001b[39;00m \u001b[39mself\u001b[39m\u001b[39m.\u001b[39mblocks\n\u001b[1;32m    760\u001b[0m     ]\n\u001b[1;32m    761\u001b[0m     new_refs \u001b[39m=\u001b[39m \u001b[39mNone\u001b[39;00m\n\u001b[1;32m    762\u001b[0m     parent \u001b[39m=\u001b[39m \u001b[39mNone\u001b[39;00m\n",
      "File \u001b[0;32m~/.local/lib/python3.10/site-packages/pandas/core/internals/blocks.py:880\u001b[0m, in \u001b[0;36mBlock.take_nd\u001b[0;34m(self, indexer, axis, new_mgr_locs, fill_value)\u001b[0m\n\u001b[1;32m    877\u001b[0m     allow_fill \u001b[39m=\u001b[39m \u001b[39mTrue\u001b[39;00m\n\u001b[1;32m    879\u001b[0m \u001b[39m# Note: algos.take_nd has upcast logic similar to coerce_to_target_dtype\u001b[39;00m\n\u001b[0;32m--> 880\u001b[0m new_values \u001b[39m=\u001b[39m algos\u001b[39m.\u001b[39;49mtake_nd(\n\u001b[1;32m    881\u001b[0m     values, indexer, axis\u001b[39m=\u001b[39;49maxis, allow_fill\u001b[39m=\u001b[39;49mallow_fill, fill_value\u001b[39m=\u001b[39;49mfill_value\n\u001b[1;32m    882\u001b[0m )\n\u001b[1;32m    884\u001b[0m \u001b[39m# Called from three places in managers, all of which satisfy\u001b[39;00m\n\u001b[1;32m    885\u001b[0m \u001b[39m#  this assertion\u001b[39;00m\n\u001b[1;32m    886\u001b[0m \u001b[39massert\u001b[39;00m \u001b[39mnot\u001b[39;00m (axis \u001b[39m==\u001b[39m \u001b[39m0\u001b[39m \u001b[39mand\u001b[39;00m new_mgr_locs \u001b[39mis\u001b[39;00m \u001b[39mNone\u001b[39;00m)\n",
      "File \u001b[0;32m~/.local/lib/python3.10/site-packages/pandas/core/array_algos/take.py:117\u001b[0m, in \u001b[0;36mtake_nd\u001b[0;34m(arr, indexer, axis, fill_value, allow_fill)\u001b[0m\n\u001b[1;32m    114\u001b[0m     \u001b[39mreturn\u001b[39;00m arr\u001b[39m.\u001b[39mtake(indexer, fill_value\u001b[39m=\u001b[39mfill_value, allow_fill\u001b[39m=\u001b[39mallow_fill)\n\u001b[1;32m    116\u001b[0m arr \u001b[39m=\u001b[39m np\u001b[39m.\u001b[39masarray(arr)\n\u001b[0;32m--> 117\u001b[0m \u001b[39mreturn\u001b[39;00m _take_nd_ndarray(arr, indexer, axis, fill_value, allow_fill)\n",
      "File \u001b[0;32m~/.local/lib/python3.10/site-packages/pandas/core/array_algos/take.py:163\u001b[0m, in \u001b[0;36m_take_nd_ndarray\u001b[0;34m(arr, indexer, axis, fill_value, allow_fill)\u001b[0m\n\u001b[1;32m    158\u001b[0m     out \u001b[39m=\u001b[39m np\u001b[39m.\u001b[39mempty(out_shape, dtype\u001b[39m=\u001b[39mdtype)\n\u001b[1;32m    160\u001b[0m func \u001b[39m=\u001b[39m _get_take_nd_function(\n\u001b[1;32m    161\u001b[0m     arr\u001b[39m.\u001b[39mndim, arr\u001b[39m.\u001b[39mdtype, out\u001b[39m.\u001b[39mdtype, axis\u001b[39m=\u001b[39maxis, mask_info\u001b[39m=\u001b[39mmask_info\n\u001b[1;32m    162\u001b[0m )\n\u001b[0;32m--> 163\u001b[0m func(arr, indexer, out, fill_value)\n\u001b[1;32m    165\u001b[0m \u001b[39mif\u001b[39;00m flip_order:\n\u001b[1;32m    166\u001b[0m     out \u001b[39m=\u001b[39m out\u001b[39m.\u001b[39mT\n",
      "\u001b[0;31mKeyboardInterrupt\u001b[0m: "
     ]
    }
   ],
   "source": [
    "association_rules = []\n",
    "\n",
    "for freq_itemset in frequent_pattern_itemsets:\n",
    "    for itemset, count in freq_itemset.items():\n",
    "        for item in itemset:\n",
    "            rule = {\n",
    "                \"X\": item,\n",
    "                \"Y\": list(set(itemset).difference([item])),\n",
    "                \"support\": count,\n",
    "                \"confidence\": count / support_df[support_df['movieId'] == item]['support'].values[0]\n",
    "            }\n",
    "            association_rules.append(rule)"
   ]
  },
  {
   "cell_type": "code",
   "execution_count": null,
   "metadata": {},
   "outputs": [],
   "source": [
    "# Sort by support in descending order\n",
    "association_rules_sorted_by_support = sorted(association_rules, key=lambda x: x['support'], reverse=True)\n",
    "\n",
    "association_rules_sorted_by_support_top100 = association_rules_sorted_by_support[:100]"
   ]
  },
  {
   "cell_type": "code",
   "execution_count": null,
   "metadata": {},
   "outputs": [],
   "source": [
    "# Sort by confidence in descending order\n",
    "association_rules_sorted_by_confidence = sorted(association_rules, key=lambda x: x['confidence'], reverse=True)\n",
    "\n",
    "association_rules_sorted_by_confidence_top100 = association_rules_sorted_by_confidence[:100]"
   ]
  },
  {
   "cell_type": "code",
   "execution_count": null,
   "metadata": {},
   "outputs": [
    {
     "data": {
      "text/html": [
       "<div>\n",
       "<style scoped>\n",
       "    .dataframe tbody tr th:only-of-type {\n",
       "        vertical-align: middle;\n",
       "    }\n",
       "\n",
       "    .dataframe tbody tr th {\n",
       "        vertical-align: top;\n",
       "    }\n",
       "\n",
       "    .dataframe thead th {\n",
       "        text-align: right;\n",
       "    }\n",
       "</style>\n",
       "<table border=\"1\" class=\"dataframe\">\n",
       "  <thead>\n",
       "    <tr style=\"text-align: right;\">\n",
       "      <th></th>\n",
       "      <th>movieId</th>\n",
       "      <th>title</th>\n",
       "    </tr>\n",
       "  </thead>\n",
       "  <tbody>\n",
       "    <tr>\n",
       "      <th>0</th>\n",
       "      <td>1</td>\n",
       "      <td>Toy Story (1995)</td>\n",
       "    </tr>\n",
       "    <tr>\n",
       "      <th>1</th>\n",
       "      <td>2</td>\n",
       "      <td>Jumanji (1995)</td>\n",
       "    </tr>\n",
       "    <tr>\n",
       "      <th>2</th>\n",
       "      <td>3</td>\n",
       "      <td>Grumpier Old Men (1995)</td>\n",
       "    </tr>\n",
       "    <tr>\n",
       "      <th>3</th>\n",
       "      <td>4</td>\n",
       "      <td>Waiting to Exhale (1995)</td>\n",
       "    </tr>\n",
       "    <tr>\n",
       "      <th>4</th>\n",
       "      <td>5</td>\n",
       "      <td>Father of the Bride Part II (1995)</td>\n",
       "    </tr>\n",
       "  </tbody>\n",
       "</table>\n",
       "</div>"
      ],
      "text/plain": [
       "   movieId                               title\n",
       "0        1                    Toy Story (1995)\n",
       "1        2                      Jumanji (1995)\n",
       "2        3             Grumpier Old Men (1995)\n",
       "3        4            Waiting to Exhale (1995)\n",
       "4        5  Father of the Bride Part II (1995)"
      ]
     },
     "execution_count": 113,
     "metadata": {},
     "output_type": "execute_result"
    }
   ],
   "source": [
    "movies_df = pd.read_csv('ml-latest-small/movies.csv')\n",
    "movies_df = movies_df[['movieId', 'title']]"
   ]
  },
  {
   "cell_type": "code",
   "execution_count": null,
   "metadata": {},
   "outputs": [],
   "source": [
    "association_rules_sorted_by_support_top100_titles = [{item['X']: item['Y']} for item in association_rules_sorted_by_support_top100]\n",
    "association_rules_sorted_by_support_top100_titles = [{movies_df[movies_df['movieId'] == list(item.keys())[0]]['title'].values[0]: [movies_df[movies_df['movieId'] == movie_id]['title'].values[0] for movie_id in list(item.values())[0]]} for item in association_rules_sorted_by_support_top100_titles]\n",
    "# save it in a file named '3_top100RulesBySup.txt'\n",
    "with open('3_top100RulesBySup.txt', 'w') as f:\n",
    "    for item in association_rules_sorted_by_support_top100_titles:\n",
    "        f.write(\"%s\\n\" % item)\n",
    "\n",
    "association_rules_sorted_by_confidence_top100_titles = [{item['X']: item['Y']} for item in association_rules_sorted_by_confidence_top100]\n",
    "association_rules_sorted_by_confidence_top100_titles = [{movies_df[movies_df['movieId'] == list(item.keys())[0]]['title'].values[0]: [movies_df[movies_df['movieId'] == movie_id]['title'].values[0] for movie_id in list(item.values())[0]]} for item in association_rules_sorted_by_confidence_top100_titles]\n",
    "# save it in a file named '3_top100RulesByConf.txt'\n",
    "with open('3_top100RulesByConf.txt', 'w') as f:\n",
    "    for item in association_rules_sorted_by_confidence_top100_titles:\n",
    "        f.write(\"%s\\n\" % item)"
   ]
  },
  {
   "cell_type": "markdown",
   "metadata": {},
   "source": [
    "\n",
    "## Variables and Initialization:\n",
    "\n",
    "- `avg_recall` (float): Initialized to 0.0, it stores the cumulative average recall.\n",
    "- `avg_precision` (float): Initialized to 0.0, it stores the cumulative average precision.\n",
    "- `rule_num` (list): A list that contains the range of numbers of rules to be considered (e.g., [1, 2, 3, ..., 10]).\n",
    "- `avg_recall_list` (list): A list to store average recall values for each number of rules.\n",
    "- `avg_precision_list` (list): A list to store average precision values for each number of rules.\n",
    "\n",
    "## Calculation of Average Recall and Average Precision\n",
    "\n",
    "### Operation:\n",
    "- The code iterates through each number of rules specified in `rule_num`.\n",
    "- For each number of rules, it iterates through each row in the `test_df`, which contains test data.\n",
    "- For each user in the test data, it retrieves their test movies and the movies they have rated above 2 in the training data.\n",
    "- It generates a recommendation set by considering the top `num` association rules that match the movies in the training set.\n",
    "- It calculates recall as the ratio of the number of recommended movies that were also in the test set to the size of the test set.\n",
    "- It calculates precision as the ratio of the number of recommended movies that were also in the test set to the size of the recommendation set.\n",
    "- The cumulative average recall and precision are updated using a moving average formula.\n",
    "- The average recall and precision for the current number of rules are appended to the respective lists.\n"
   ]
  },
  {
   "cell_type": "code",
   "execution_count": null,
   "metadata": {},
   "outputs": [],
   "source": [
    "avg_recall = 0.0\n",
    "avg_precision = 0.0\n",
    "rule_num = [i for i in range(1, 11)]\n",
    "avg_recall_list = []\n",
    "avg_precision_list = []\n",
    "\n",
    "for num in rule_num:\n",
    "    for idx, row in test_df.iterrows():\n",
    "        user_id = row['userId']\n",
    "        test_movies = row['test_movies']\n",
    "        train_movies = train_df[train_df['userId'] == user_id]['movies_rated_above_2'].values[0]\n",
    "        recommendation_set = []\n",
    "        for train_movie in train_movies:\n",
    "            counter = 0\n",
    "            for rule in association_rules_sorted_by_confidence:\n",
    "                if counter == num:\n",
    "                    break\n",
    "                if train_movie == rule['X']:\n",
    "                    recommendation_set += rule['Y']\n",
    "                    counter += 1\n",
    "        test_set = set(test_movies)\n",
    "        recommendation_set = set(recommendation_set)\n",
    "        hit_set = test_set.intersection(recommendation_set)\n",
    "\n",
    "        try:\n",
    "            recall = len(hit_set) / len(test_set)  \n",
    "        except ZeroDivisionError:\n",
    "            recall = 0 \n",
    "        avg_recall = avg_recall * (idx / (idx + 1)) + recall / (idx + 1)\n",
    "        try:\n",
    "            precision = len(hit_set) / len(recommendation_set)\n",
    "        except ZeroDivisionError:\n",
    "            precision = 0\n",
    "        avg_precision = avg_precision * (idx / (idx + 1)) + precision / (idx + 1)\n",
    "        \n",
    "    avg_recall_list.append(avg_recall)\n",
    "    avg_precision_list.append(avg_precision)"
   ]
  },
  {
   "cell_type": "code",
   "execution_count": null,
   "metadata": {},
   "outputs": [
    {
     "data": {
      "image/png": "[encoded data removed]",
      "text/plain": [
       "<Figure size 640x480 with 1 Axes>"
      ]
     },
     "metadata": {},
     "output_type": "display_data"
    },
    {
     "data": {
      "image/png": "[encoded data removed]",
      "text/plain": [
       "<Figure size 640x480 with 1 Axes>"
      ]
     },
     "metadata": {},
     "output_type": "display_data"
    }
   ],
   "source": [
    "# plot average recall vs number of rules\n",
    "import matplotlib.pyplot as plt\n",
    "\n",
    "plt.plot(rule_num, avg_recall_list)\n",
    "plt.xlabel('Number of Rules')\n",
    "plt.ylabel('Average Recall')\n",
    "plt.title('Average Recall vs Number of Rules')\n",
    "plt.show()\n",
    "\n",
    "# plot average precision vs number of rules\n",
    "plt.plot(rule_num, avg_precision_list)\n",
    "plt.xlabel('Number of Rules')\n",
    "plt.ylabel('Average Precision')\n",
    "plt.title('Average Precision vs Number of Rules')\n",
    "plt.show()\n"
   ]
  }
 ],
 "metadata": {
  "kernelspec": {
   "display_name": "Python 3.10.12 64-bit",
   "language": "python",
   "name": "python3"
  },
  "language_info": {
   "codemirror_mode": {
    "name": "ipython",
    "version": 3
   },
   "file_extension": ".py",
   "mimetype": "text/x-python",
   "name": "python",
   "nbconvert_exporter": "python",
   "pygments_lexer": "ipython3",
   "version": "3.10.10"
  },
  "orig_nbformat": 4,
  "vscode": {
   "interpreter": {
    "hash": "916dbcbb3f70747c44a77c7bcd40155683ae19c65e1c03b4aa3499c5328201f1"
   }
  }
 },
 "nbformat": 4,
 "nbformat_minor": 2
}
