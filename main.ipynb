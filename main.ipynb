{
 "cells": [
  {
   "cell_type": "code",
   "execution_count": 1,
   "metadata": {},
   "outputs": [],
   "source": [
    "class TrieNode:\n",
    "    def __init__(self):\n",
    "        self.char = ''\n",
    "        self.count = 0\n",
    "        self.children = {}\n",
    "\n",
    "root = TrieNode()\n",
    "        "
   ]
  },
  {
   "cell_type": "code",
   "execution_count": 2,
   "metadata": {},
   "outputs": [],
   "source": [
    "\n"
   ]
  },
  {
   "cell_type": "code",
   "execution_count": null,
   "metadata": {},
   "outputs": [],
   "source": [
    "def insert(word):\n",
    "    node = root\n",
    "    for char in word:\n",
    "        found = False\n",
    "        for child in node.children:\n",
    "            if child.char == char:\n",
    "                node = child\n",
    "                node.count += 1\n",
    "                found = True\n",
    "                break\n",
    "\n",
    "        if not found:\n",
    "            new_node = TrieNode()\n",
    "            new_node.char = char\n",
    "            new_node.count = 1\n",
    "            node.children.append(new_node)\n",
    "            node = new_node"
   ]
  },
  {
   "cell_type": "code",
   "execution_count": 3,
   "metadata": {},
   "outputs": [],
   "source": [
    "dataset = {\n",
    "    \"1\": [5, 11, 13, 14, 15, 25],\n",
    "    \"2\": [4, 5, 11, 14, 15, 25],\n",
    "    \"3\": [1, 5, 11, 13],\n",
    "    \"4\": [3, 11, 13, 21, 25],\n",
    "    \"5\": [3, 5, 9, 11, 15, 15]\n",
    "}"
   ]
  },
  {
   "cell_type": "code",
   "execution_count": 2,
   "metadata": {},
   "outputs": [
    {
     "name": "stdout",
     "output_type": "stream",
     "text": [
      "  userId movies_movies_rated_above_2\n",
      "0      1     [5, 11, 13, 14, 15, 25]\n",
      "1      2      [4, 5, 11, 14, 15, 25]\n",
      "2      3              [1, 5, 11, 13]\n",
      "3      4         [3, 11, 13, 21, 25]\n",
      "4      5       [3, 5, 9, 11, 15, 15]\n"
     ]
    }
   ],
   "source": [
    "import pandas as pd\n",
    "\n",
    "dataset = {\n",
    "    \"userId\": [\"1\", \"2\", \"3\", \"4\", \"5\"],\n",
    "    \"movies_movies_rated_above_2\": [[5, 11, 13, 14, 15, 25],\n",
    "               [4, 5, 11, 14, 15, 25],\n",
    "               [1, 5, 11, 13],\n",
    "               [3, 11, 13, 21, 25],\n",
    "               [3, 5, 9, 11, 15, 15]]\n",
    "}\n",
    "\n",
    "train_df = pd.DataFrame(dataset)\n"
   ]
  }
 ],
 "metadata": {
  "kernelspec": {
   "display_name": "base",
   "language": "python",
   "name": "python3"
  },
  "language_info": {
   "codemirror_mode": {
    "name": "ipython",
    "version": 3
   },
   "file_extension": ".py",
   "mimetype": "text/x-python",
   "name": "python",
   "nbconvert_exporter": "python",
   "pygments_lexer": "ipython3",
   "version": "3.10.10"
  },
  "orig_nbformat": 4
 },
 "nbformat": 4,
 "nbformat_minor": 2
}
